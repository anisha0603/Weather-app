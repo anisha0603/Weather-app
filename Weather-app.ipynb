{
 "cells": [
  {
   "cell_type": "code",
   "execution_count": 1,
   "id": "86e960a2",
   "metadata": {},
   "outputs": [],
   "source": [
    "# import required modules\n",
    "from configparser import ConfigParser\n",
    "import requests\n",
    "from tkinter import *\n",
    "from tkinter import messagebox\n"
   ]
  },
  {
   "cell_type": "code",
   "execution_count": 2,
   "id": "95fcca89",
   "metadata": {},
   "outputs": [],
   "source": [
    "# extract key from the\n",
    "# configuration file\n",
    "config_file = \"config.ini\"\n",
    "config = ConfigParser()\n",
    "config.read(config_file)\n",
    "api_key ='fdf65b80fc5c752da1490771b5cc1798'\n",
    "url = 'http://api.openweathermap.org/data/2.5/weather?q={}&appid={}'\n"
   ]
  },
  {
   "cell_type": "code",
   "execution_count": 3,
   "id": "5284fec6",
   "metadata": {},
   "outputs": [],
   "source": [
    "# explicit function to get\n",
    "# weather details\n",
    "def getweather(city):\n",
    "\tresult = requests.get(url.format(city, api_key))\n",
    "\t\n",
    "\tif result:\n",
    "\t\tjson = result.json()\n",
    "\t\tcity = json['name']\n",
    "\t\tcountry = json['sys']\n",
    "\t\ttemp_kelvin = json['main']['temp']\n",
    "\t\ttemp_celsius = temp_kelvin-273.15\n",
    "\t\tweather1 = json['weather'][0]['main']\n",
    "\t\tfinal = [city, country, temp_kelvin,\n",
    "\t\t\t\ttemp_celsius, weather1]\n",
    "\t\treturn final\n",
    "\telse:\n",
    "\t\tprint(\"NO Content Found\")\n"
   ]
  },
  {
   "cell_type": "code",
   "execution_count": null,
   "id": "b0af68e9",
   "metadata": {},
   "outputs": [],
   "source": []
  }
 ],
 "metadata": {
  "kernelspec": {
   "display_name": "Python 3 (ipykernel)",
   "language": "python",
   "name": "python3"
  },
  "language_info": {
   "codemirror_mode": {
    "name": "ipython",
    "version": 3
   },
   "file_extension": ".py",
   "mimetype": "text/x-python",
   "name": "python",
   "nbconvert_exporter": "python",
   "pygments_lexer": "ipython3",
   "version": "3.9.7"
  }
 },
 "nbformat": 4,
 "nbformat_minor": 5
}
